{
  "metadata": {
    "language_info": {
      "codemirror_mode": {
        "name": "python",
        "version": 3
      },
      "file_extension": ".py",
      "mimetype": "text/x-python",
      "name": "python",
      "nbconvert_exporter": "python",
      "pygments_lexer": "ipython3",
      "version": "3.8"
    },
    "kernelspec": {
      "name": "python",
      "display_name": "Python (Pyodide)",
      "language": "python"
    }
  },
  "nbformat_minor": 4,
  "nbformat": 4,
  "cells": [
    {
      "cell_type": "code",
      "source": "class Nodo:\n    def __init__(self, datos, hijo=None):\n        self.datos = datos\n        self.hijos = []\n        self.padre = None\n        self.costo = None\n        self.set_hijo(hijo)\n\n    def set_hijo(self, hijo):\n        if (hijo is not None):\n            self.hijos.append(hijo)\n            if self.hijos is not None:\n                for h in self.hijos:\n                    h.padre = self\n\n    def get_hijos(self):\n        return self.hijos\n\n    def set_padre(self, padre):\n        self.padre = padre\n\n    def get_padre(self):\n        return self.padre\n\n    def set_datos(self, datos):\n        self.datos = datos\n\n    def get_datos(self):\n        return self.datos\n\n    def set_costo(self, costo):\n        self.costo = costo\n\n    def get_costo(self):\n        return self.costo\n\n    def equal(self, nodo):\n        if self.get_datos() == nodo.get_datos():\n            return True\n        else:\n            return False\n\n    def en_lista(self, lista_nodos):\n        enlistado = False\n        for n in lista_nodos:\n            if self.equal(n):\n                enlistado = True\n        return enlistado\n\n    def __str__(self):\n        return str(self.get_datos())",
      "metadata": {
        "trusted": true
      },
      "execution_count": 79,
      "outputs": []
    },
    {
      "cell_type": "code",
      "source": "\"\"\"Función que permita agregar a una lista de numeros los palitos disponibles que estan en un determinado escenario para que\nposteriormente, dicha lista sea verificada para quitar un palito\"\"\"\ndef agregarLista(escenario):\n    listaPalitos = []\n    for i in range(1, 10):\n        for j in range(5):\n            for k in range(9):\n                if str(i) == escenario[j][k]:\n                    listaPalitos.append(int(i))\n    return listaPalitos",
      "metadata": {
        "trusted": true
      },
      "execution_count": 80,
      "outputs": []
    },
    {
      "cell_type": "code",
      "source": "\"\"\"Función que hara un recorrido por una lista para saber si un palito se encuentra expresado en un escenario para que se\nrealice alguna acción en base a dicha información\"\"\"\ndef verificarPalitos(listaPalitos, palito):\n    for x in range(len(listaPalitos)):\n        if palito == listaPalitos[x]:\n            return True",
      "metadata": {
        "trusted": true
      },
      "execution_count": 81,
      "outputs": []
    },
    {
      "cell_type": "code",
      "source": "\"\"\"Función que imprime los valores de una lista por filas\"\"\"\ndef imprimir(lista_imprimir):\n    for i in range(5):\n        print(lista_imprimir[i])",
      "metadata": {
        "trusted": true
      },
      "execution_count": 82,
      "outputs": []
    },
    {
      "cell_type": "code",
      "source": "def quitarpalito(lista_triangulos):\n    for i in range(1,14):\n        lista_triangulos_modificar = lista_triangulos\n        for j in lista_triangulos_modificar:\n            j.remove(i)\n        return lista_triangulos_modificar",
      "metadata": {
        "trusted": true
      },
      "execution_count": 83,
      "outputs": []
    },
    {
      "cell_type": "code",
      "source": "def comprobarTriangulos(lista_comprobar_triangulos):\n    contador_triangulos = 0\n    for i in lista_comprobar_triangulos:\n        if len(i)%3 == 0:\n            contador_triangulos = contador_triangulos + 1",
      "metadata": {
        "trusted": true
      },
      "execution_count": 84,
      "outputs": []
    },
    {
      "cell_type": "code",
      "source": "\"\"\"Se emplea una búsqueda primero en profundidad en base una estructura LIFO, pues se sacarán los palitos de manera que se \ncompruebe si la solución está presente cuando se saquen 2 a partir de un primer estado: Primero se saca un palito y en base\na ese estado, se saca otro\"\"\"\ndef encontarSoluciónPalitos(estado_inicio, estado_solucion):\n    resuelto = False\n    nodos_visitados = []\n    nodos_frontera = []\n    nodo_inicio = Nodo(estado_inicio)\n    nodos_frontera.append(nodo_inicio)\n\n    nodo_actual = nodos_frontera.pop()\n    nodos_visitados.append(nodo_actual)\n    if nodo_actual.get_datos() == estado_solucion:\n        resuelto = True\n        return nodo_actual\n    else:\n        hijo = nodo_actual.get_datos().copy()\n        lista1.append(quitarpalito(hijo))\n        lista2.append(quitarpalito(lista1))\n        lista3.append(quitarpalito(lista2))\n        numero_triangulos_posibles = comprobartriangulos(lista3)\n\n        print(numero_triangulos_posibles)\n",
      "metadata": {
        "trusted": true
      },
      "execution_count": 85,
      "outputs": []
    },
    {
      "cell_type": "code",
      "source": "if __name__ == \"__main__\":\n    estado_inicial = [[1,2,3],[4,5,6],[7,8,9],[3,5,7],[1,2,4,6,8,9],[10,11,4],[8,12,13]]\n    numerotriangulosinicial = len(estado_inicial)\n    numerotriangulosfinal = 4\n    \n\n    imprimir(estado_inicial)\n    print()\n    imprimir(solucion)\n    # mostrar resultado\n    print(\"Se encontro el resultado\")",
      "metadata": {
        "trusted": true
      },
      "execution_count": 86,
      "outputs": [
        {
          "name": "stdout",
          "text": "[1, 2, 3]\n[4, 5, 6]\n[7, 8, 9]\n[3, 5, 7]\n[1, 2, 4, 6, 8, 9]\n\n[' ', ' ', ' ', ' ', '*', ' ', ' ', ' ', ' ']\n[' ', ' ', ' ', '1', ' ', '2', ' ', ' ', ' ']\n[' ', ' ', '*', ' ', ' ', ' ', '*', ' ', ' ']\n[' ', '4', ' ', ' ', ' ', '7', ' ', '8', ' ']\n['*', '6', '6', '6', '*', '9', '9', '9', '*']\nSe encontro el resultado\n",
          "output_type": "stream"
        }
      ]
    },
    {
      "cell_type": "code",
      "source": "",
      "metadata": {},
      "execution_count": null,
      "outputs": []
    }
  ]
}